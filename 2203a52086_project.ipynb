{
  "nbformat": 4,
  "nbformat_minor": 0,
  "metadata": {
    "colab": {
      "provenance": []
    },
    "kernelspec": {
      "name": "python3",
      "display_name": "Python 3"
    },
    "language_info": {
      "name": "python"
    }
  },
  "cells": [
    {
      "cell_type": "code",
      "execution_count": null,
      "metadata": {
        "id": "DB602LFiMNjS"
      },
      "outputs": [],
      "source": [
        "import numpy as np\n",
        "from matplotlib import pyplot as plt\n",
        "from sklearn.preprocessing import StandardScaler\n",
        "from imblearn.over_sampling import RandomOverSampler\n",
        "from sklearn.metrics import classification_report"
      ]
    },
    {
      "cell_type": "code",
      "source": [
        "import pandas as pd\n",
        "a=pd.read_csv(\"/content/Sleep_health_and_lifestyle_dataset (1).csv\")\n",
        "print(a)"
      ],
      "metadata": {
        "colab": {
          "base_uri": "https://localhost:8080/"
        },
        "id": "xgZ6ARISMSzc",
        "outputId": "91615370-79b6-4115-ed16-adfe6c4a942d"
      },
      "execution_count": null,
      "outputs": [
        {
          "output_type": "stream",
          "name": "stdout",
          "text": [
            "     Person ID  Gender  Age            Occupation  Sleep Duration  \\\n",
            "0            1    Male   27     Software Engineer             6.1   \n",
            "1            2    Male   28                Doctor             6.2   \n",
            "2            3    Male   28                Doctor             6.2   \n",
            "3            4    Male   28  Sales Representative             5.9   \n",
            "4            5    Male   28  Sales Representative             5.9   \n",
            "..         ...     ...  ...                   ...             ...   \n",
            "369        370  Female   59                 Nurse             8.1   \n",
            "370        371  Female   59                 Nurse             8.0   \n",
            "371        372  Female   59                 Nurse             8.1   \n",
            "372        373  Female   59                 Nurse             8.1   \n",
            "373        374  Female   59                 Nurse             8.1   \n",
            "\n",
            "     Quality of Sleep  Physical Activity Level  Stress Level BMI Category  \\\n",
            "0                   6                       42             6   Overweight   \n",
            "1                   6                       60             8       Normal   \n",
            "2                   6                       60             8       Normal   \n",
            "3                   4                       30             8        Obese   \n",
            "4                   4                       30             8        Obese   \n",
            "..                ...                      ...           ...          ...   \n",
            "369                 9                       75             3   Overweight   \n",
            "370                 9                       75             3   Overweight   \n",
            "371                 9                       75             3   Overweight   \n",
            "372                 9                       75             3   Overweight   \n",
            "373                 9                       75             3   Overweight   \n",
            "\n",
            "    Blood Pressure  Heart Rate  Daily Steps Sleep Disorder  \n",
            "0           126/83          77         4200           None  \n",
            "1           125/80          75        10000           None  \n",
            "2           125/80          75        10000           None  \n",
            "3           140/90          85         3000    Sleep Apnea  \n",
            "4           140/90          85         3000    Sleep Apnea  \n",
            "..             ...         ...          ...            ...  \n",
            "369         140/95          68         7000    Sleep Apnea  \n",
            "370         140/95          68         7000    Sleep Apnea  \n",
            "371         140/95          68         7000    Sleep Apnea  \n",
            "372         140/95          68         7000    Sleep Apnea  \n",
            "373         140/95          68         7000    Sleep Apnea  \n",
            "\n",
            "[374 rows x 13 columns]\n"
          ]
        }
      ]
    },
    {
      "cell_type": "code",
      "source": [
        "import pandas as pd\n",
        "from sklearn.preprocessing import LabelEncoder\n",
        "\n",
        "\n",
        "df = pd.DataFrame(a)\n",
        "\n",
        "# Initialize label encoders for each categorical column\n",
        "label_encoders = {}\n",
        "\n",
        "# Apply label encoding for each categorical column\n",
        "for column in ['Sleep Duration', 'Physical Activity Level', 'Stress Level', 'BMI Category','Heart Rate']:\n",
        "    label_encoder = LabelEncoder()\n",
        "    df[column] = label_encoder.fit_transform(df[column])\n",
        "    label_encoders[column] = label_encoder\n",
        "\n",
        "# Print the updated DataFrame\n",
        "print(df)\n",
        "\n",
        "# To convert a specific category back to its original value, you can use the inverse transform like this:\n",
        "# original_value = label_encoders['Tumour_Stage'].inverse_transform([encoded_value])\n"
      ],
      "metadata": {
        "colab": {
          "base_uri": "https://localhost:8080/"
        },
        "id": "j2pzfZwDMdjE",
        "outputId": "ca2a2ef3-a3e7-404f-c989-0c9dc9f137f9"
      },
      "execution_count": null,
      "outputs": [
        {
          "output_type": "stream",
          "name": "stdout",
          "text": [
            "     Person ID  Gender  Age            Occupation  Sleep Duration  \\\n",
            "0            1    Male   27     Software Engineer               3   \n",
            "1            2    Male   28                Doctor               4   \n",
            "2            3    Male   28                Doctor               4   \n",
            "3            4    Male   28  Sales Representative               1   \n",
            "4            5    Male   28  Sales Representative               1   \n",
            "..         ...     ...  ...                   ...             ...   \n",
            "369        370  Female   59                 Nurse              22   \n",
            "370        371  Female   59                 Nurse              21   \n",
            "371        372  Female   59                 Nurse              22   \n",
            "372        373  Female   59                 Nurse              22   \n",
            "373        374  Female   59                 Nurse              22   \n",
            "\n",
            "     Quality of Sleep  Physical Activity Level  Stress Level  BMI Category  \\\n",
            "0                   6                        4             3             3   \n",
            "1                   6                        9             5             0   \n",
            "2                   6                        9             5             0   \n",
            "3                   4                        0             5             2   \n",
            "4                   4                        0             5             2   \n",
            "..                ...                      ...           ...           ...   \n",
            "369                 9                       12             0             3   \n",
            "370                 9                       12             0             3   \n",
            "371                 9                       12             0             3   \n",
            "372                 9                       12             0             3   \n",
            "373                 9                       12             0             3   \n",
            "\n",
            "    Blood Pressure  Heart Rate  Daily Steps Sleep Disorder  \n",
            "0           126/83          10         4200           None  \n",
            "1           125/80           8        10000           None  \n",
            "2           125/80           8        10000           None  \n",
            "3           140/90          17         3000    Sleep Apnea  \n",
            "4           140/90          17         3000    Sleep Apnea  \n",
            "..             ...         ...          ...            ...  \n",
            "369         140/95           2         7000    Sleep Apnea  \n",
            "370         140/95           2         7000    Sleep Apnea  \n",
            "371         140/95           2         7000    Sleep Apnea  \n",
            "372         140/95           2         7000    Sleep Apnea  \n",
            "373         140/95           2         7000    Sleep Apnea  \n",
            "\n",
            "[374 rows x 13 columns]\n"
          ]
        }
      ]
    },
    {
      "cell_type": "code",
      "source": [
        "a1=a.dropna()\n",
        "y=a1[\"Heart Rate\"]\n",
        "print(y)\n",
        "x=a1.drop(['Blood Pressure','Daily Steps','Sleep Disorder','Gender','Occupation'],axis=1)\n",
        "\n",
        "print(x)\n",
        "print(x.shape)"
      ],
      "metadata": {
        "colab": {
          "base_uri": "https://localhost:8080/"
        },
        "id": "34P0Os82NTd5",
        "outputId": "b93d0055-5761-4262-9fbc-31d17bfc36fc"
      },
      "execution_count": null,
      "outputs": [
        {
          "output_type": "stream",
          "name": "stdout",
          "text": [
            "0      10\n",
            "1       8\n",
            "2       8\n",
            "3      17\n",
            "4      17\n",
            "       ..\n",
            "369     2\n",
            "370     2\n",
            "371     2\n",
            "372     2\n",
            "373     2\n",
            "Name: Heart Rate, Length: 374, dtype: int64\n",
            "     Person ID  Age  Sleep Duration  Quality of Sleep  \\\n",
            "0            1   27               3                 6   \n",
            "1            2   28               4                 6   \n",
            "2            3   28               4                 6   \n",
            "3            4   28               1                 4   \n",
            "4            5   28               1                 4   \n",
            "..         ...  ...             ...               ...   \n",
            "369        370   59              22                 9   \n",
            "370        371   59              21                 9   \n",
            "371        372   59              22                 9   \n",
            "372        373   59              22                 9   \n",
            "373        374   59              22                 9   \n",
            "\n",
            "     Physical Activity Level  Stress Level  BMI Category  Heart Rate  \n",
            "0                          4             3             3          10  \n",
            "1                          9             5             0           8  \n",
            "2                          9             5             0           8  \n",
            "3                          0             5             2          17  \n",
            "4                          0             5             2          17  \n",
            "..                       ...           ...           ...         ...  \n",
            "369                       12             0             3           2  \n",
            "370                       12             0             3           2  \n",
            "371                       12             0             3           2  \n",
            "372                       12             0             3           2  \n",
            "373                       12             0             3           2  \n",
            "\n",
            "[374 rows x 8 columns]\n",
            "(374, 8)\n"
          ]
        }
      ]
    },
    {
      "cell_type": "code",
      "source": [
        "x1=x.fillna(0)"
      ],
      "metadata": {
        "id": "OdoANITKNyn2"
      },
      "execution_count": null,
      "outputs": []
    },
    {
      "cell_type": "code",
      "source": [
        "import pandas as pd\n",
        "from sklearn.model_selection import train_test_split\n",
        "x_train, x_test, y_train, y_test= train_test_split(x, y, test_size=0.2, random_state=20)\n",
        "print(x_train)\n",
        "print(y_train)\n",
        "print(x_train.shape)\n",
        "print(y_train.shape)"
      ],
      "metadata": {
        "colab": {
          "base_uri": "https://localhost:8080/"
        },
        "id": "Cl2Z4q9-N2aQ",
        "outputId": "cfb837ed-ac45-462a-f158-3e2ae4b84296"
      },
      "execution_count": null,
      "outputs": [
        {
          "output_type": "stream",
          "name": "stdout",
          "text": [
            "     Person ID  Age  Sleep Duration  Quality of Sleep  \\\n",
            "219        220   43               7                 6   \n",
            "81          82   34               0                 4   \n",
            "132        133   38              14                 8   \n",
            "171        172   41              18                 8   \n",
            "148        149   39              11                 7   \n",
            "..         ...  ...             ...               ...   \n",
            "331        332   53              25                 9   \n",
            "218        219   43              19                 8   \n",
            "223        224   44               6                 6   \n",
            "271        272   49               3                 6   \n",
            "355        356   58              21                 9   \n",
            "\n",
            "     Physical Activity Level  Stress Level  BMI Category  Heart Rate  \n",
            "219                        5             4             3           5  \n",
            "81                         1             5             3          13  \n",
            "132                        9             2             0           2  \n",
            "171                       15             2             0           4  \n",
            "148                        7             3             1           8  \n",
            "..                       ...           ...           ...         ...  \n",
            "331                        0             0             0           0  \n",
            "218                       15             2             0           4  \n",
            "223                        5             4             3           5  \n",
            "271                       15             5             3           8  \n",
            "355                       12             0             3           2  \n",
            "\n",
            "[299 rows x 8 columns]\n",
            "219     5\n",
            "81     13\n",
            "132     2\n",
            "171     4\n",
            "148     8\n",
            "       ..\n",
            "331     0\n",
            "218     4\n",
            "223     5\n",
            "271     8\n",
            "355     2\n",
            "Name: Heart Rate, Length: 299, dtype: int64\n",
            "(299, 8)\n",
            "(299,)\n"
          ]
        }
      ]
    },
    {
      "cell_type": "code",
      "source": [
        "from sklearn.linear_model import LogisticRegression\n",
        "model = LogisticRegression()\n",
        "model.fit(x_train,y_train)\n"
      ],
      "metadata": {
        "colab": {
          "base_uri": "https://localhost:8080/",
          "height": 221
        },
        "id": "FvNnooK-OMST",
        "outputId": "9b724316-161c-4230-97e4-fb491ad10ada"
      },
      "execution_count": null,
      "outputs": [
        {
          "output_type": "stream",
          "name": "stderr",
          "text": [
            "/usr/local/lib/python3.10/dist-packages/sklearn/linear_model/_logistic.py:458: ConvergenceWarning: lbfgs failed to converge (status=1):\n",
            "STOP: TOTAL NO. of ITERATIONS REACHED LIMIT.\n",
            "\n",
            "Increase the number of iterations (max_iter) or scale the data as shown in:\n",
            "    https://scikit-learn.org/stable/modules/preprocessing.html\n",
            "Please also refer to the documentation for alternative solver options:\n",
            "    https://scikit-learn.org/stable/modules/linear_model.html#logistic-regression\n",
            "  n_iter_i = _check_optimize_result(\n"
          ]
        },
        {
          "output_type": "execute_result",
          "data": {
            "text/plain": [
              "LogisticRegression()"
            ],
            "text/html": [
              "<style>#sk-container-id-1 {color: black;background-color: white;}#sk-container-id-1 pre{padding: 0;}#sk-container-id-1 div.sk-toggleable {background-color: white;}#sk-container-id-1 label.sk-toggleable__label {cursor: pointer;display: block;width: 100%;margin-bottom: 0;padding: 0.3em;box-sizing: border-box;text-align: center;}#sk-container-id-1 label.sk-toggleable__label-arrow:before {content: \"▸\";float: left;margin-right: 0.25em;color: #696969;}#sk-container-id-1 label.sk-toggleable__label-arrow:hover:before {color: black;}#sk-container-id-1 div.sk-estimator:hover label.sk-toggleable__label-arrow:before {color: black;}#sk-container-id-1 div.sk-toggleable__content {max-height: 0;max-width: 0;overflow: hidden;text-align: left;background-color: #f0f8ff;}#sk-container-id-1 div.sk-toggleable__content pre {margin: 0.2em;color: black;border-radius: 0.25em;background-color: #f0f8ff;}#sk-container-id-1 input.sk-toggleable__control:checked~div.sk-toggleable__content {max-height: 200px;max-width: 100%;overflow: auto;}#sk-container-id-1 input.sk-toggleable__control:checked~label.sk-toggleable__label-arrow:before {content: \"▾\";}#sk-container-id-1 div.sk-estimator input.sk-toggleable__control:checked~label.sk-toggleable__label {background-color: #d4ebff;}#sk-container-id-1 div.sk-label input.sk-toggleable__control:checked~label.sk-toggleable__label {background-color: #d4ebff;}#sk-container-id-1 input.sk-hidden--visually {border: 0;clip: rect(1px 1px 1px 1px);clip: rect(1px, 1px, 1px, 1px);height: 1px;margin: -1px;overflow: hidden;padding: 0;position: absolute;width: 1px;}#sk-container-id-1 div.sk-estimator {font-family: monospace;background-color: #f0f8ff;border: 1px dotted black;border-radius: 0.25em;box-sizing: border-box;margin-bottom: 0.5em;}#sk-container-id-1 div.sk-estimator:hover {background-color: #d4ebff;}#sk-container-id-1 div.sk-parallel-item::after {content: \"\";width: 100%;border-bottom: 1px solid gray;flex-grow: 1;}#sk-container-id-1 div.sk-label:hover label.sk-toggleable__label {background-color: #d4ebff;}#sk-container-id-1 div.sk-serial::before {content: \"\";position: absolute;border-left: 1px solid gray;box-sizing: border-box;top: 0;bottom: 0;left: 50%;z-index: 0;}#sk-container-id-1 div.sk-serial {display: flex;flex-direction: column;align-items: center;background-color: white;padding-right: 0.2em;padding-left: 0.2em;position: relative;}#sk-container-id-1 div.sk-item {position: relative;z-index: 1;}#sk-container-id-1 div.sk-parallel {display: flex;align-items: stretch;justify-content: center;background-color: white;position: relative;}#sk-container-id-1 div.sk-item::before, #sk-container-id-1 div.sk-parallel-item::before {content: \"\";position: absolute;border-left: 1px solid gray;box-sizing: border-box;top: 0;bottom: 0;left: 50%;z-index: -1;}#sk-container-id-1 div.sk-parallel-item {display: flex;flex-direction: column;z-index: 1;position: relative;background-color: white;}#sk-container-id-1 div.sk-parallel-item:first-child::after {align-self: flex-end;width: 50%;}#sk-container-id-1 div.sk-parallel-item:last-child::after {align-self: flex-start;width: 50%;}#sk-container-id-1 div.sk-parallel-item:only-child::after {width: 0;}#sk-container-id-1 div.sk-dashed-wrapped {border: 1px dashed gray;margin: 0 0.4em 0.5em 0.4em;box-sizing: border-box;padding-bottom: 0.4em;background-color: white;}#sk-container-id-1 div.sk-label label {font-family: monospace;font-weight: bold;display: inline-block;line-height: 1.2em;}#sk-container-id-1 div.sk-label-container {text-align: center;}#sk-container-id-1 div.sk-container {/* jupyter's `normalize.less` sets `[hidden] { display: none; }` but bootstrap.min.css set `[hidden] { display: none !important; }` so we also need the `!important` here to be able to override the default hidden behavior on the sphinx rendered scikit-learn.org. See: https://github.com/scikit-learn/scikit-learn/issues/21755 */display: inline-block !important;position: relative;}#sk-container-id-1 div.sk-text-repr-fallback {display: none;}</style><div id=\"sk-container-id-1\" class=\"sk-top-container\"><div class=\"sk-text-repr-fallback\"><pre>LogisticRegression()</pre><b>In a Jupyter environment, please rerun this cell to show the HTML representation or trust the notebook. <br />On GitHub, the HTML representation is unable to render, please try loading this page with nbviewer.org.</b></div><div class=\"sk-container\" hidden><div class=\"sk-item\"><div class=\"sk-estimator sk-toggleable\"><input class=\"sk-toggleable__control sk-hidden--visually\" id=\"sk-estimator-id-1\" type=\"checkbox\" checked><label for=\"sk-estimator-id-1\" class=\"sk-toggleable__label sk-toggleable__label-arrow\">LogisticRegression</label><div class=\"sk-toggleable__content\"><pre>LogisticRegression()</pre></div></div></div></div></div>"
            ]
          },
          "metadata": {},
          "execution_count": 32
        }
      ]
    },
    {
      "cell_type": "code",
      "source": [
        "from sklearn.metrics import accuracy_score, classification_report\n",
        "y_pred = model.predict(x_test)\n",
        "accuracy_LR = accuracy_score(y_test, y_pred)\n",
        "report = classification_report(y_test, y_pred)\n",
        "print(\"Accuracy:\",accuracy_LR)\n",
        "print(\"Classification Report:\\n\",report)"
      ],
      "metadata": {
        "colab": {
          "base_uri": "https://localhost:8080/",
          "height": 406
        },
        "id": "6xc3IDmrPqhx",
        "outputId": "e3f037f4-66cb-416c-fc8b-2c3700d4ad5b"
      },
      "execution_count": null,
      "outputs": [
        {
          "output_type": "error",
          "ename": "ValueError",
          "evalue": "ignored",
          "traceback": [
            "\u001b[0;31m---------------------------------------------------------------------------\u001b[0m",
            "\u001b[0;31mValueError\u001b[0m                                Traceback (most recent call last)",
            "\u001b[0;32m<ipython-input-56-c5e096fb162e>\u001b[0m in \u001b[0;36m<cell line: 3>\u001b[0;34m()\u001b[0m\n\u001b[1;32m      1\u001b[0m \u001b[0;32mfrom\u001b[0m \u001b[0msklearn\u001b[0m\u001b[0;34m.\u001b[0m\u001b[0mmetrics\u001b[0m \u001b[0;32mimport\u001b[0m \u001b[0maccuracy_score\u001b[0m\u001b[0;34m,\u001b[0m \u001b[0mclassification_report\u001b[0m\u001b[0;34m\u001b[0m\u001b[0;34m\u001b[0m\u001b[0m\n\u001b[1;32m      2\u001b[0m \u001b[0my_pred\u001b[0m \u001b[0;34m=\u001b[0m \u001b[0mmodel\u001b[0m\u001b[0;34m.\u001b[0m\u001b[0mpredict\u001b[0m\u001b[0;34m(\u001b[0m\u001b[0mx_test\u001b[0m\u001b[0;34m)\u001b[0m\u001b[0;34m\u001b[0m\u001b[0;34m\u001b[0m\u001b[0m\n\u001b[0;32m----> 3\u001b[0;31m \u001b[0maccuracy_LR\u001b[0m \u001b[0;34m=\u001b[0m \u001b[0maccuracy_score\u001b[0m\u001b[0;34m(\u001b[0m\u001b[0my_test\u001b[0m\u001b[0;34m,\u001b[0m \u001b[0my_pred\u001b[0m\u001b[0;34m)\u001b[0m\u001b[0;34m\u001b[0m\u001b[0;34m\u001b[0m\u001b[0m\n\u001b[0m\u001b[1;32m      4\u001b[0m \u001b[0mreport\u001b[0m \u001b[0;34m=\u001b[0m \u001b[0mclassification_report\u001b[0m\u001b[0;34m(\u001b[0m\u001b[0my_test\u001b[0m\u001b[0;34m,\u001b[0m \u001b[0my_pred\u001b[0m\u001b[0;34m)\u001b[0m\u001b[0;34m\u001b[0m\u001b[0;34m\u001b[0m\u001b[0m\n\u001b[1;32m      5\u001b[0m \u001b[0mprint\u001b[0m\u001b[0;34m(\u001b[0m\u001b[0;34m\"Accuracy:\"\u001b[0m\u001b[0;34m,\u001b[0m\u001b[0maccuracy_LR\u001b[0m\u001b[0;34m)\u001b[0m\u001b[0;34m\u001b[0m\u001b[0;34m\u001b[0m\u001b[0m\n",
            "\u001b[0;32m/usr/local/lib/python3.10/dist-packages/sklearn/utils/_param_validation.py\u001b[0m in \u001b[0;36mwrapper\u001b[0;34m(*args, **kwargs)\u001b[0m\n\u001b[1;32m    190\u001b[0m \u001b[0;34m\u001b[0m\u001b[0m\n\u001b[1;32m    191\u001b[0m             \u001b[0;32mtry\u001b[0m\u001b[0;34m:\u001b[0m\u001b[0;34m\u001b[0m\u001b[0;34m\u001b[0m\u001b[0m\n\u001b[0;32m--> 192\u001b[0;31m                 \u001b[0;32mreturn\u001b[0m \u001b[0mfunc\u001b[0m\u001b[0;34m(\u001b[0m\u001b[0;34m*\u001b[0m\u001b[0margs\u001b[0m\u001b[0;34m,\u001b[0m \u001b[0;34m**\u001b[0m\u001b[0mkwargs\u001b[0m\u001b[0;34m)\u001b[0m\u001b[0;34m\u001b[0m\u001b[0;34m\u001b[0m\u001b[0m\n\u001b[0m\u001b[1;32m    193\u001b[0m             \u001b[0;32mexcept\u001b[0m \u001b[0mInvalidParameterError\u001b[0m \u001b[0;32mas\u001b[0m \u001b[0me\u001b[0m\u001b[0;34m:\u001b[0m\u001b[0;34m\u001b[0m\u001b[0;34m\u001b[0m\u001b[0m\n\u001b[1;32m    194\u001b[0m                 \u001b[0;31m# When the function is just a wrapper around an estimator, we allow\u001b[0m\u001b[0;34m\u001b[0m\u001b[0;34m\u001b[0m\u001b[0m\n",
            "\u001b[0;32m/usr/local/lib/python3.10/dist-packages/sklearn/metrics/_classification.py\u001b[0m in \u001b[0;36maccuracy_score\u001b[0;34m(y_true, y_pred, normalize, sample_weight)\u001b[0m\n\u001b[1;32m    219\u001b[0m \u001b[0;34m\u001b[0m\u001b[0m\n\u001b[1;32m    220\u001b[0m     \u001b[0;31m# Compute accuracy for each possible representation\u001b[0m\u001b[0;34m\u001b[0m\u001b[0;34m\u001b[0m\u001b[0m\n\u001b[0;32m--> 221\u001b[0;31m     \u001b[0my_type\u001b[0m\u001b[0;34m,\u001b[0m \u001b[0my_true\u001b[0m\u001b[0;34m,\u001b[0m \u001b[0my_pred\u001b[0m \u001b[0;34m=\u001b[0m \u001b[0m_check_targets\u001b[0m\u001b[0;34m(\u001b[0m\u001b[0my_true\u001b[0m\u001b[0;34m,\u001b[0m \u001b[0my_pred\u001b[0m\u001b[0;34m)\u001b[0m\u001b[0;34m\u001b[0m\u001b[0;34m\u001b[0m\u001b[0m\n\u001b[0m\u001b[1;32m    222\u001b[0m     \u001b[0mcheck_consistent_length\u001b[0m\u001b[0;34m(\u001b[0m\u001b[0my_true\u001b[0m\u001b[0;34m,\u001b[0m \u001b[0my_pred\u001b[0m\u001b[0;34m,\u001b[0m \u001b[0msample_weight\u001b[0m\u001b[0;34m)\u001b[0m\u001b[0;34m\u001b[0m\u001b[0;34m\u001b[0m\u001b[0m\n\u001b[1;32m    223\u001b[0m     \u001b[0;32mif\u001b[0m \u001b[0my_type\u001b[0m\u001b[0;34m.\u001b[0m\u001b[0mstartswith\u001b[0m\u001b[0;34m(\u001b[0m\u001b[0;34m\"multilabel\"\u001b[0m\u001b[0;34m)\u001b[0m\u001b[0;34m:\u001b[0m\u001b[0;34m\u001b[0m\u001b[0;34m\u001b[0m\u001b[0m\n",
            "\u001b[0;32m/usr/local/lib/python3.10/dist-packages/sklearn/metrics/_classification.py\u001b[0m in \u001b[0;36m_check_targets\u001b[0;34m(y_true, y_pred)\u001b[0m\n\u001b[1;32m     84\u001b[0m     \u001b[0my_pred\u001b[0m \u001b[0;34m:\u001b[0m \u001b[0marray\u001b[0m \u001b[0;32mor\u001b[0m \u001b[0mindicator\u001b[0m \u001b[0mmatrix\u001b[0m\u001b[0;34m\u001b[0m\u001b[0;34m\u001b[0m\u001b[0m\n\u001b[1;32m     85\u001b[0m     \"\"\"\n\u001b[0;32m---> 86\u001b[0;31m     \u001b[0mcheck_consistent_length\u001b[0m\u001b[0;34m(\u001b[0m\u001b[0my_true\u001b[0m\u001b[0;34m,\u001b[0m \u001b[0my_pred\u001b[0m\u001b[0;34m)\u001b[0m\u001b[0;34m\u001b[0m\u001b[0;34m\u001b[0m\u001b[0m\n\u001b[0m\u001b[1;32m     87\u001b[0m     \u001b[0mtype_true\u001b[0m \u001b[0;34m=\u001b[0m \u001b[0mtype_of_target\u001b[0m\u001b[0;34m(\u001b[0m\u001b[0my_true\u001b[0m\u001b[0;34m,\u001b[0m \u001b[0minput_name\u001b[0m\u001b[0;34m=\u001b[0m\u001b[0;34m\"y_true\"\u001b[0m\u001b[0;34m)\u001b[0m\u001b[0;34m\u001b[0m\u001b[0;34m\u001b[0m\u001b[0m\n\u001b[1;32m     88\u001b[0m     \u001b[0mtype_pred\u001b[0m \u001b[0;34m=\u001b[0m \u001b[0mtype_of_target\u001b[0m\u001b[0;34m(\u001b[0m\u001b[0my_pred\u001b[0m\u001b[0;34m,\u001b[0m \u001b[0minput_name\u001b[0m\u001b[0;34m=\u001b[0m\u001b[0;34m\"y_pred\"\u001b[0m\u001b[0;34m)\u001b[0m\u001b[0;34m\u001b[0m\u001b[0;34m\u001b[0m\u001b[0m\n",
            "\u001b[0;32m/usr/local/lib/python3.10/dist-packages/sklearn/utils/validation.py\u001b[0m in \u001b[0;36mcheck_consistent_length\u001b[0;34m(*arrays)\u001b[0m\n\u001b[1;32m    395\u001b[0m     \u001b[0muniques\u001b[0m \u001b[0;34m=\u001b[0m \u001b[0mnp\u001b[0m\u001b[0;34m.\u001b[0m\u001b[0munique\u001b[0m\u001b[0;34m(\u001b[0m\u001b[0mlengths\u001b[0m\u001b[0;34m)\u001b[0m\u001b[0;34m\u001b[0m\u001b[0;34m\u001b[0m\u001b[0m\n\u001b[1;32m    396\u001b[0m     \u001b[0;32mif\u001b[0m \u001b[0mlen\u001b[0m\u001b[0;34m(\u001b[0m\u001b[0muniques\u001b[0m\u001b[0;34m)\u001b[0m \u001b[0;34m>\u001b[0m \u001b[0;36m1\u001b[0m\u001b[0;34m:\u001b[0m\u001b[0;34m\u001b[0m\u001b[0;34m\u001b[0m\u001b[0m\n\u001b[0;32m--> 397\u001b[0;31m         raise ValueError(\n\u001b[0m\u001b[1;32m    398\u001b[0m             \u001b[0;34m\"Found input variables with inconsistent numbers of samples: %r\"\u001b[0m\u001b[0;34m\u001b[0m\u001b[0;34m\u001b[0m\u001b[0m\n\u001b[1;32m    399\u001b[0m             \u001b[0;34m%\u001b[0m \u001b[0;34m[\u001b[0m\u001b[0mint\u001b[0m\u001b[0;34m(\u001b[0m\u001b[0ml\u001b[0m\u001b[0;34m)\u001b[0m \u001b[0;32mfor\u001b[0m \u001b[0ml\u001b[0m \u001b[0;32min\u001b[0m \u001b[0mlengths\u001b[0m\u001b[0;34m]\u001b[0m\u001b[0;34m\u001b[0m\u001b[0;34m\u001b[0m\u001b[0m\n",
            "\u001b[0;31mValueError\u001b[0m: Found input variables with inconsistent numbers of samples: [358, 75]"
          ]
        }
      ]
    },
    {
      "cell_type": "code",
      "source": [
        "from sklearn import datasets\n",
        "from sklearn.model_selection import train_test_split\n",
        "from sklearn.svm import SVC\n",
        "from sklearn.metrics import accuracy_score\n",
        "\n",
        "\n",
        "\n",
        "\n",
        "# Create an SVM classifier\n",
        "svm_classifier = SVC(kernel='linear')  # You can choose different kernels like 'linear', 'rbf', etc.\n",
        "\n",
        "# Train the classifier on the training data\n",
        "svm_classifier.fit(x_train, y_train)\n",
        "\n",
        "# Make predictions on the test data\n",
        "y_pred = svm_classifier.predict(x_test)\n",
        "\n",
        "# Calculate accuracy\n",
        "accuracy_svm1 = accuracy_score(y_test, y_pred)\n",
        "print(f\"Accuracy:{accuracy_svm1}\")\n",
        "print(\"Classification Report:\\n\",report)"
      ],
      "metadata": {
        "colab": {
          "base_uri": "https://localhost:8080/"
        },
        "id": "Dy3P_ODARFbH",
        "outputId": "2cdec511-a507-45ad-fe2f-26339684dbc8"
      },
      "execution_count": null,
      "outputs": [
        {
          "output_type": "stream",
          "name": "stdout",
          "text": [
            "Accuracy:0.9866666666666667\n",
            "Classification Report:\n",
            "               precision    recall  f1-score   support\n",
            "\n",
            "           0       0.93      0.82      0.87        17\n",
            "           2       0.86      0.95      0.90        19\n",
            "           4       0.89      0.76      0.82        21\n",
            "           5       0.75      1.00      0.86        12\n",
            "           8       1.00      1.00      1.00         4\n",
            "          10       0.00      0.00      0.00         1\n",
            "          17       0.00      0.00      0.00         0\n",
            "          18       0.00      0.00      0.00         1\n",
            "\n",
            "    accuracy                           0.85        75\n",
            "   macro avg       0.55      0.57      0.56        75\n",
            "weighted avg       0.85      0.85      0.85        75\n",
            "\n"
          ]
        }
      ]
    },
    {
      "cell_type": "code",
      "source": [
        "from imblearn.over_sampling import SMOTE\n",
        "from sklearn.datasets import make_classification\n",
        "\n",
        "# Create a synthetic imbalanced dataset for demonstration\n",
        "X, y = make_classification(n_classes=2, weights=[0.1, 0.9], n_samples=1000, random_state=42)\n",
        "\n",
        "# Initialize SMOTE\n",
        "smote = SMOTE(sampling_strategy='auto', random_state=42)\n",
        "\n",
        "# Apply SMOTE to the dataset\n",
        "X_resampled, y_resampled = smote.fit_resample(X, y)"
      ],
      "metadata": {
        "id": "BqaGULv8RMRC"
      },
      "execution_count": null,
      "outputs": []
    },
    {
      "cell_type": "code",
      "source": [
        "import numpy as np\n",
        "\n",
        "class Perceptron:\n",
        "    def __init__(self, learning_rate=0.01, n_iterations=1000):\n",
        "        self.learning_rate = learning_rate\n",
        "        self.n_iterations = n_iterations\n",
        "\n",
        "    def fit(self, X, y):\n",
        "        # Initialize weights and bias\n",
        "        self.weights = np.zeros(X.shape[1])\n",
        "        self.bias = 0\n",
        "\n",
        "        for _ in range(self.n_iterations):\n",
        "            errors = 0  # Track the number of misclassifications in each iteration\n",
        "            for i in range(X.shape[0]):\n",
        "                # Calculate the predicted output\n",
        "                y_pred = np.dot(X[i], self.weights) + self.bias\n",
        "\n",
        "                # Update the weights and bias based on the error\n",
        "                if y[i] * y_pred <= 0:\n",
        "                    self.weights += self.learning_rate * y[i] * X[i]\n",
        "                    self.bias += self.learning_rate * y[i]\n",
        "                    errors += 1  # Increment the error count\n",
        "\n",
        "            # If no errors were made during an iteration, the perceptron has converged\n",
        "            if errors == 0:\n",
        "                break\n",
        "\n",
        "    def predict(self, X):\n",
        "        # Calculate the predicted output\n",
        "        y_pred = np.dot(x_train, self.weights) + self.bias\n",
        "        return np.sign(y_pred)\n",
        "\n",
        "if __name__ == \"__main__\":\n",
        "    # Sample data (replace with your own dataset)\n",
        "    X = np.array(x_train)\n",
        "    y = np.array(y_train)\n",
        "\n",
        "    # Create a Perceptron instance and fit the model\n",
        "    perceptron = Perceptron(learning_rate=0.1, n_iterations=1000)\n",
        "    perceptron.fit(X, y)\n",
        "\n",
        "    # Make predictions\n",
        "\n",
        "    Predictions = perceptron.predict(x_test)\n",
        "    print(\"Predictions:\",Predictions)\n",
        "    print(\"Classification Report:\\n\",report)\n",
        "    #print(f\"Accuracy: {accuracy*100:.2f}%\")\n",
        "\n"
      ],
      "metadata": {
        "colab": {
          "base_uri": "https://localhost:8080/"
        },
        "id": "YT2ky_THRyCL",
        "outputId": "598ece40-a43a-4b15-85ad-b963ea3be92b"
      },
      "execution_count": null,
      "outputs": [
        {
          "output_type": "stream",
          "name": "stdout",
          "text": [
            "Predictions: [1. 1. 1. 1. 1. 1. 1. 1. 1. 1. 1. 1. 1. 1. 1. 1. 1. 1. 1. 1. 1. 1. 1. 1.\n",
            " 1. 1. 1. 1. 1. 1. 1. 1. 1. 1. 1. 1. 1. 1. 1. 1. 1. 1. 1. 1. 1. 1. 1. 1.\n",
            " 1. 1. 1. 1. 1. 1. 1. 1. 1. 1. 1. 1. 1. 1. 1. 1. 1. 1. 1. 1. 1. 1. 1. 1.\n",
            " 1. 1. 1. 1. 1. 1. 1. 1. 1. 1. 1. 1. 1. 1. 1. 1. 1. 1. 1. 1. 1. 1. 1. 1.\n",
            " 1. 1. 1. 1. 1. 1. 1. 1. 1. 1. 1. 1. 1. 1. 1. 1. 1. 1. 1. 1. 1. 1. 1. 1.\n",
            " 1. 1. 1. 1. 1. 1. 1. 1. 1. 1. 1. 1. 1. 1. 1. 1. 1. 1. 1. 1. 1. 1. 1. 1.\n",
            " 1. 1. 1. 1. 1. 1. 1. 1. 1. 1. 1. 1. 1. 1. 1. 1. 1. 1. 1. 1. 1. 1. 1. 1.\n",
            " 1. 1. 1. 1. 1. 1. 1. 1. 1. 1. 1. 1. 1. 1. 1. 1. 1. 1. 1. 1. 1. 1. 1. 1.\n",
            " 1. 1. 1. 1. 1. 1. 1. 1. 1. 1. 1. 1. 1. 1. 1. 1. 1. 1. 1. 1. 1. 1. 1. 1.\n",
            " 1. 1. 1. 1. 1. 1. 1. 1. 1. 1. 1. 1. 1. 1. 1. 1. 1. 1. 1. 1. 1. 1. 1. 1.\n",
            " 1. 1. 1. 1. 1. 1. 1. 1. 1. 1. 1. 1. 1. 1. 1. 1. 1. 1. 1. 1. 1. 1. 1. 1.\n",
            " 1. 1. 1. 1. 1. 1. 1. 1. 1. 1. 1. 1. 1. 1. 1. 1. 1. 1. 1. 1. 1. 1. 1. 1.\n",
            " 1. 1. 1. 1. 1. 1. 1. 1. 1. 1. 1.]\n",
            "Classification Report:\n",
            "               precision    recall  f1-score   support\n",
            "\n",
            "           0       0.93      0.82      0.87        17\n",
            "           2       0.86      0.95      0.90        19\n",
            "           4       0.89      0.76      0.82        21\n",
            "           5       0.75      1.00      0.86        12\n",
            "           8       1.00      1.00      1.00         4\n",
            "          10       0.00      0.00      0.00         1\n",
            "          17       0.00      0.00      0.00         0\n",
            "          18       0.00      0.00      0.00         1\n",
            "\n",
            "    accuracy                           0.85        75\n",
            "   macro avg       0.55      0.57      0.56        75\n",
            "weighted avg       0.85      0.85      0.85        75\n",
            "\n"
          ]
        }
      ]
    },
    {
      "cell_type": "code",
      "source": [
        "# Import necessary libraries\n",
        "from sklearn import datasets\n",
        "from sklearn.model_selection import train_test_split\n",
        "from sklearn.svm import SVC\n",
        "from sklearn.metrics import accuracy_score\n",
        "\n",
        "\n",
        "# Split the dataset into training and testing sets\n",
        "X_train, X_test, y_train, y_test = train_test_split(X_resampled, y_resampled, test_size=0.2, random_state=42)\n",
        "\n",
        "# Create an SVM classifier\n",
        "svm_classifier = SVC(kernel='linear')  # You can choose different kernels like 'linear', 'rbf', etc.\n",
        "\n",
        "# Train the classifier on the training data\n",
        "svm_classifier.fit(X_train, y_train)\n",
        "\n",
        "# Make predictions on the test data\n",
        "y_pred = svm_classifier.predict(X_test)\n",
        "\n",
        "# Calculate accuracy\n",
        "accuracy_SVM = accuracy_score(y_test, y_pred)\n",
        "print(f\"Accuracy:{accuracy_SVM}\")\n",
        "print(\"Classification Report:\\n\",report)\n"
      ],
      "metadata": {
        "colab": {
          "base_uri": "https://localhost:8080/"
        },
        "id": "bbjdkQv6R74j",
        "outputId": "07b97ab7-3003-4e23-a5c9-6d798a198eab"
      },
      "execution_count": null,
      "outputs": [
        {
          "output_type": "stream",
          "name": "stdout",
          "text": [
            "Accuracy:0.8687150837988827\n",
            "Classification Report:\n",
            "               precision    recall  f1-score   support\n",
            "\n",
            "           0       0.93      0.82      0.87        17\n",
            "           2       0.86      0.95      0.90        19\n",
            "           4       0.89      0.76      0.82        21\n",
            "           5       0.75      1.00      0.86        12\n",
            "           8       1.00      1.00      1.00         4\n",
            "          10       0.00      0.00      0.00         1\n",
            "          17       0.00      0.00      0.00         0\n",
            "          18       0.00      0.00      0.00         1\n",
            "\n",
            "    accuracy                           0.85        75\n",
            "   macro avg       0.55      0.57      0.56        75\n",
            "weighted avg       0.85      0.85      0.85        75\n",
            "\n"
          ]
        }
      ]
    },
    {
      "cell_type": "code",
      "source": [
        "import numpy as np\n",
        "import matplotlib.pyplot as plt\n",
        "import seaborn as sns\n",
        "from sklearn.metrics import confusion_matrix, accuracy_score\n",
        "\n",
        "\n",
        "# Create a confusion matrix\n",
        "confusion_mat = confusion_matrix(y_test, y_pred)\n",
        "\n",
        "# Calculate accuracy\n",
        "accuracy = accuracy_score(y_test, y_pred)\n",
        "print(f'Accuracy: {accuracy:.2f}')\n",
        "\n",
        "# Create a heatmap for the confusion matrix\n",
        "plt.figure(figsize=(8, 6))\n",
        "sns.heatmap(confusion_mat, annot=True, fmt='d', cmap='Blues', cbar=False,\n",
        "            xticklabels=['Predicted 0', 'Predicted 1'], yticklabels=['Actual 0', 'Actual 1'])\n",
        "plt.xlabel('Predicted')\n",
        "plt.ylabel('Actual')\n",
        "plt.title('Confusion Matrix Heatmap')\n",
        "plt.show()\n"
      ],
      "metadata": {
        "colab": {
          "base_uri": "https://localhost:8080/",
          "height": 582
        },
        "id": "L9-qQic3SExi",
        "outputId": "33402a90-58b2-4836-fa89-5a23d61ea770"
      },
      "execution_count": null,
      "outputs": [
        {
          "output_type": "stream",
          "name": "stdout",
          "text": [
            "Accuracy: 0.87\n"
          ]
        },
        {
          "output_type": "display_data",
          "data": {
            "text/plain": [
              "<Figure size 800x600 with 1 Axes>"
            ],
            "image/png": "[encoded data removed]"
          },
          "metadata": {}
        }
      ]
    },
    {
      "cell_type": "code",
      "source": [
        "import matplotlib.pyplot as plt\n",
        "\n",
        "algorithm_names = ['Perceptron network','Support Vector Machine before SMOTE ', 'Logistic Regression', 'Support Vector Machine']\n",
        "accuracy_scores = [accuracy, accuracy_LR,accuracy_svm1, accuracy_SVM]\n",
        "\n",
        "plt.figure(figsize=(10, 5))\n",
        "\n",
        "# Bar chart for accuracy scores\n",
        "plt.bar(algorithm_names, accuracy_scores, color='Green', alpha=0.7)\n",
        "plt.xlabel('Classification Algorithms')\n",
        "plt.ylabel('Accuracy Scores')\n",
        "plt.title('Performance Comparison')\n",
        "\n",
        "# Adding data labels\n",
        "for i, v in enumerate(accuracy_scores):\n",
        "    plt.text(i, v + 0.01, str(round(v, 2)), ha='center', va='bottom')\n",
        "\n",
        "# Rotating the x-axis labels for better visibility\n",
        "plt.xticks(rotation=45)\n",
        "\n",
        "# Displaying the plot\n",
        "plt.show()\n"
      ],
      "metadata": {
        "id": "zUTTVwz1SLfm",
        "colab": {
          "base_uri": "https://localhost:8080/",
          "height": 676
        },
        "outputId": "b542d16d-e2ff-4a96-cc76-cfa752ee9a8f"
      },
      "execution_count": null,
      "outputs": [
        {
          "output_type": "display_data",
          "data": {
            "text/plain": [
              "<Figure size 1000x500 with 1 Axes>"
            ],
            "image/png": "[encoded data removed]"
          },
          "metadata": {}
        }
      ]
    }
  ]
}